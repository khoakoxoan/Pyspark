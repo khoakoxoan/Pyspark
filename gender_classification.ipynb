{
 "cells": [
  {
   "cell_type": "code",
   "execution_count": 1,
   "metadata": {},
   "outputs": [],
   "source": [
    "import findspark\n",
    "findspark.init()\n",
    "from pyspark.ml import Pipeline\n",
    "from pyspark.ml.regression import GBTRegressor\n",
    "from pyspark.ml.feature import VectorIndexer\n",
    "from pyspark.ml.evaluation import RegressionEvaluator\n",
    "from pyspark.sql import functions as f\n",
    "from pyspark.ml.feature import StringIndexer, VectorIndexer, VectorAssembler"
   ]
  },
  {
   "cell_type": "markdown",
   "metadata": {},
   "source": [
    "### **Create Spark session**"
   ]
  },
  {
   "cell_type": "code",
   "execution_count": 2,
   "metadata": {},
   "outputs": [],
   "source": [
    "import pyspark\n",
    "from pyspark.sql import SparkSession\n",
    "spark = SparkSession.builder.master(\"local\")\\\n",
    "          .appName(\"StructureAPI\")\\\n",
    "          .config(\"spark.some.config.option\", \"some-value\")\\\n",
    "          .getOrCreate()"
   ]
  },
  {
   "cell_type": "markdown",
   "metadata": {},
   "source": [
    "### **Explore Data Analysis**"
   ]
  },
  {
   "cell_type": "code",
   "execution_count": 3,
   "metadata": {},
   "outputs": [
    {
     "name": "stdout",
     "output_type": "stream",
     "text": [
      "+----------+--------------+-------+-------+----------+------------+\n",
      "|      date|date_block_num|shop_id|item_id|item_price|item_cnt_day|\n",
      "+----------+--------------+-------+-------+----------+------------+\n",
      "|02.01.2013|             0|     59|  22154|     999.0|         1.0|\n",
      "|03.01.2013|             0|     25|   2552|     899.0|         1.0|\n",
      "|05.01.2013|             0|     25|   2552|     899.0|        -1.0|\n",
      "|06.01.2013|             0|     25|   2554|   1709.05|         1.0|\n",
      "|15.01.2013|             0|     25|   2555|    1099.0|         1.0|\n",
      "+----------+--------------+-------+-------+----------+------------+\n",
      "only showing top 5 rows\n",
      "\n"
     ]
    }
   ],
   "source": [
    "data = spark.read.load(\"sales_train.csv\", format=\"csv\", header=True, delimiter=\",\")\n",
    "data.show(5)"
   ]
  },
  {
   "cell_type": "code",
   "execution_count": 40,
   "metadata": {},
   "outputs": [
    {
     "data": {
      "text/plain": [
       "2935849"
      ]
     },
     "execution_count": 40,
     "metadata": {},
     "output_type": "execute_result"
    }
   ],
   "source": [
    "data.count()"
   ]
  },
  {
   "cell_type": "markdown",
   "metadata": {},
   "source": [
    "Tiếp theo xét xem có dòng nào bị thiếu giá trị hay không."
   ]
  },
  {
   "cell_type": "code",
   "execution_count": 41,
   "metadata": {},
   "outputs": [
    {
     "name": "stdout",
     "output_type": "stream",
     "text": [
      "+----+--------------+-------+-------+----------+------------+\n",
      "|date|date_block_num|shop_id|item_id|item_price|item_cnt_day|\n",
      "+----+--------------+-------+-------+----------+------------+\n",
      "|   0|             0|      0|      0|         0|           0|\n",
      "+----+--------------+-------+-------+----------+------------+\n",
      "\n"
     ]
    }
   ],
   "source": [
    "data.select([f.count(f.when(f.col(c).contains('None') | \\\n",
    "                            f.col(c).contains('NULL') | \\\n",
    "                            (f.col(c) == '' ) | \\\n",
    "                            f.col(c).isNull() | \\\n",
    "                            f.isnan(c), c \n",
    "                           )).alias(c)\n",
    "                    for c in data.columns]).show()"
   ]
  },
  {
   "cell_type": "markdown",
   "metadata": {},
   "source": [
    "- **Date**: date in format dd/mm/yyyy\n",
    "- **date_block_num**: a consecutive month number, used for convenience. January 2013 is 0, February 2013 is 1,..., October 2015 is 33\n",
    "- **shop_id**: unique identifier of a shop\n",
    "- **item_id**: unique identifier of an item\n",
    "- **item_price**: price of an item\n",
    "- **item_cnt_day**: number of products sold"
   ]
  },
  {
   "cell_type": "code",
   "execution_count": 34,
   "metadata": {},
   "outputs": [
    {
     "name": "stdout",
     "output_type": "stream",
     "text": [
      "root\n",
      " |-- date: string (nullable = true)\n",
      " |-- date_block_num: string (nullable = true)\n",
      " |-- shop_id: string (nullable = true)\n",
      " |-- item_id: string (nullable = true)\n",
      " |-- item_price: string (nullable = true)\n",
      " |-- item_cnt_day: string (nullable = true)\n",
      "\n"
     ]
    }
   ],
   "source": [
    "data.printSchema()"
   ]
  },
  {
   "cell_type": "code",
   "execution_count": 4,
   "metadata": {},
   "outputs": [],
   "source": [
    "data = data.withColumn('date',f.to_date(data.date,'dd.MM.yyyy'))\n",
    "data = data.withColumn(\"date_block_num\",data.date_block_num.cast('int'))\n",
    "data = data.withColumn(\"item_price\",data.item_price.cast('double'))\n",
    "data = data.withColumn(\"item_cnt_day\",data.item_cnt_day.cast('int'))"
   ]
  },
  {
   "cell_type": "markdown",
   "metadata": {},
   "source": [
    "Ở đây ta thấy các cột numeric đang là dạng string nên chúng ta sẽ cast chúng lại thành dạng dữ liệu số"
   ]
  },
  {
   "cell_type": "code",
   "execution_count": 5,
   "metadata": {},
   "outputs": [
    {
     "name": "stdout",
     "output_type": "stream",
     "text": [
      "root\n",
      " |-- date: date (nullable = true)\n",
      " |-- date_block_num: integer (nullable = true)\n",
      " |-- shop_id: string (nullable = true)\n",
      " |-- item_id: string (nullable = true)\n",
      " |-- item_price: double (nullable = true)\n",
      " |-- item_cnt_day: integer (nullable = true)\n",
      "\n"
     ]
    }
   ],
   "source": [
    "data.printSchema()"
   ]
  },
  {
   "cell_type": "code",
   "execution_count": 6,
   "metadata": {},
   "outputs": [
    {
     "name": "stdout",
     "output_type": "stream",
     "text": [
      "+-------+-----------------+------------------+------------------+------------------+------------------+\n",
      "|summary|   date_block_num|           shop_id|           item_id|        item_price|      item_cnt_day|\n",
      "+-------+-----------------+------------------+------------------+------------------+------------------+\n",
      "|  count|          2935849|           2935849|           2935849|           2935849|           2935849|\n",
      "|   mean|14.56991146343017|33.001728290521754|10197.227056977385| 890.8532326979881| 1.242640885140891|\n",
      "| stddev|9.422987708755725| 16.22697304833424|6324.2973538914575|1729.7996307126411|2.6188344308954035|\n",
      "|    min|                0|                 0|                 0|              -1.0|               -22|\n",
      "|    25%|                7|              22.0|            4476.0|             249.0|                 1|\n",
      "|    50%|               14|              31.0|            9346.0|             399.0|                 1|\n",
      "|    75%|               23|              47.0|           15684.0|             999.0|                 1|\n",
      "|    max|               33|                 9|              9999|          307980.0|              2169|\n",
      "+-------+-----------------+------------------+------------------+------------------+------------------+\n",
      "\n"
     ]
    }
   ],
   "source": [
    "data.summary().show()"
   ]
  },
  {
   "cell_type": "markdown",
   "metadata": {},
   "source": [
    "- Sau khi mô tả dữ liệu, ta thấy được cột **item_cnt_day** và cột **item_price** có giá trị bất thường nhỏ hơn 0."
   ]
  },
  {
   "cell_type": "code",
   "execution_count": 14,
   "metadata": {},
   "outputs": [
    {
     "data": {
      "text/plain": [
       "7356"
      ]
     },
     "execution_count": 14,
     "metadata": {},
     "output_type": "execute_result"
    }
   ],
   "source": [
    "len(data.where(data.item_cnt_day < 0).collect())"
   ]
  },
  {
   "cell_type": "markdown",
   "metadata": {},
   "source": [
    "- Số lượng dòng bất thường trên cột **item_cnt_day** là 7356"
   ]
  },
  {
   "cell_type": "code",
   "execution_count": 15,
   "metadata": {},
   "outputs": [
    {
     "data": {
      "text/plain": [
       "1"
      ]
     },
     "execution_count": 15,
     "metadata": {},
     "output_type": "execute_result"
    }
   ],
   "source": [
    "len(data.where(data.item_price < 0).collect())"
   ]
  },
  {
   "cell_type": "markdown",
   "metadata": {},
   "source": [
    "- Số lượng dòng bất thường trên cột **item_price** là 1"
   ]
  },
  {
   "cell_type": "markdown",
   "metadata": {},
   "source": [
    "Số lượng dòng bất thường khá ít so với tổng số lượng dòng mà chúng ta đang có nên chúng ta sẽ loại bỏ chúng đi"
   ]
  },
  {
   "cell_type": "code",
   "execution_count": 16,
   "metadata": {},
   "outputs": [
    {
     "name": "stdout",
     "output_type": "stream",
     "text": [
      "+-------+------------------+------------------+------------------+-----------------+------------------+\n",
      "|summary|    date_block_num|           shop_id|           item_id|       item_price|      item_cnt_day|\n",
      "+-------+------------------+------------------+------------------+-----------------+------------------+\n",
      "|  count|           2928492|           2928492|           2928492|          2928492|           2928492|\n",
      "|   mean|14.569763209187528|33.002952372757036|10200.281966623095|889.4667512710128|1.2483373695403641|\n",
      "| stddev| 9.422951383876265|16.225428560235574| 6324.395925384864|1727.498582243899| 2.619586031516712|\n",
      "|    min|                 0|                 0|                 0|             0.07|                 1|\n",
      "|    max|                33|                 9|              9999|         307980.0|              2169|\n",
      "+-------+------------------+------------------+------------------+-----------------+------------------+\n",
      "\n"
     ]
    }
   ],
   "source": [
    "data = data.where(data.item_price > 0).where(data.item_cnt_day > 0)\n",
    "data.summary().show()"
   ]
  },
  {
   "cell_type": "markdown",
   "metadata": {},
   "source": [
    "Ta sẽ tách cột tháng ra từ cột date, vì các tháng trong năm cũng có thể quyết định số lượng  mua hàng"
   ]
  },
  {
   "cell_type": "code",
   "execution_count": 17,
   "metadata": {},
   "outputs": [
    {
     "name": "stdout",
     "output_type": "stream",
     "text": [
      "+----------+--------------+-------+-------+----------+------------+-----+\n",
      "|      date|date_block_num|shop_id|item_id|item_price|item_cnt_day|month|\n",
      "+----------+--------------+-------+-------+----------+------------+-----+\n",
      "|2013-01-02|             0|     59|  22154|     999.0|           1|    1|\n",
      "|2013-01-03|             0|     25|   2552|     899.0|           1|    1|\n",
      "|2013-01-06|             0|     25|   2554|   1709.05|           1|    1|\n",
      "|2013-01-15|             0|     25|   2555|    1099.0|           1|    1|\n",
      "|2013-01-10|             0|     25|   2564|     349.0|           1|    1|\n",
      "+----------+--------------+-------+-------+----------+------------+-----+\n",
      "only showing top 5 rows\n",
      "\n"
     ]
    }
   ],
   "source": [
    "data = data.withColumn('month',(f.floor(data['date_block_num']/12)+1).cast('int'))\n",
    "data.show(5)"
   ]
  },
  {
   "cell_type": "markdown",
   "metadata": {},
   "source": [
    "### **Model training with MLib**"
   ]
  },
  {
   "cell_type": "markdown",
   "metadata": {},
   "source": [
    "#### Train test split"
   ]
  },
  {
   "cell_type": "code",
   "execution_count": 18,
   "metadata": {},
   "outputs": [],
   "source": [
    "trainingData = data.where(data.date_block_num <28)\n",
    "testData = data.where(data.date_block_num>=28)"
   ]
  },
  {
   "cell_type": "markdown",
   "metadata": {},
   "source": [
    "Tiếp theo các đặc trưng huấn luyện sẽ được kết hợp lại thành cột features."
   ]
  },
  {
   "cell_type": "code",
   "execution_count": 19,
   "metadata": {},
   "outputs": [],
   "source": [
    "assembler = VectorAssembler(\n",
    "    inputCols=['month','item_price','date_block_num'],\n",
    "    outputCol='features',\n",
    "    handleInvalid='keep'\n",
    ")"
   ]
  },
  {
   "cell_type": "code",
   "execution_count": 20,
   "metadata": {},
   "outputs": [
    {
     "name": "stdout",
     "output_type": "stream",
     "text": [
      "+----------+--------------+-------+-------+----------+------------+-----+-----------------+\n",
      "|      date|date_block_num|shop_id|item_id|item_price|item_cnt_day|month|         features|\n",
      "+----------+--------------+-------+-------+----------+------------+-----+-----------------+\n",
      "|2013-01-02|             0|     59|  22154|     999.0|           1|    1|  [1.0,999.0,0.0]|\n",
      "|2013-01-03|             0|     25|   2552|     899.0|           1|    1|  [1.0,899.0,0.0]|\n",
      "|2013-01-06|             0|     25|   2554|   1709.05|           1|    1|[1.0,1709.05,0.0]|\n",
      "|2013-01-15|             0|     25|   2555|    1099.0|           1|    1| [1.0,1099.0,0.0]|\n",
      "|2013-01-10|             0|     25|   2564|     349.0|           1|    1|  [1.0,349.0,0.0]|\n",
      "+----------+--------------+-------+-------+----------+------------+-----+-----------------+\n",
      "only showing top 5 rows\n",
      "\n"
     ]
    }
   ],
   "source": [
    "assembler.transform(trainingData).show(5)"
   ]
  },
  {
   "cell_type": "code",
   "execution_count": 21,
   "metadata": {},
   "outputs": [],
   "source": [
    "gbt = GBTRegressor(featuresCol=\"features\", labelCol='item_cnt_day', maxIter=10)\n",
    "# Chain indexer and GBT in a Pipeline\n",
    "pipeline = Pipeline(stages=[assembler, gbt])"
   ]
  },
  {
   "cell_type": "code",
   "execution_count": 22,
   "metadata": {},
   "outputs": [],
   "source": [
    "model = pipeline.fit(trainingData)"
   ]
  },
  {
   "cell_type": "code",
   "execution_count": 23,
   "metadata": {},
   "outputs": [
    {
     "name": "stdout",
     "output_type": "stream",
     "text": [
      "+------------------+------------+\n",
      "|        prediction|item_cnt_day|\n",
      "+------------------+------------+\n",
      "| 1.181191524140303|           1|\n",
      "|1.0293996116334725|           1|\n",
      "| 1.290853487503798|           1|\n",
      "| 1.181191524140303|           1|\n",
      "| 1.181191524140303|           1|\n",
      "+------------------+------------+\n",
      "only showing top 5 rows\n",
      "\n",
      "RMSE train data = 2.0582\n",
      "RMSE test data = 5.06909\n"
     ]
    }
   ],
   "source": [
    "evaluator = RegressionEvaluator(\n",
    "    labelCol=\"item_cnt_day\", \n",
    "    predictionCol=\"prediction\", \n",
    "    metricName=\"rmse\"\n",
    ")\n",
    "train_pred = model.transform(trainingData)\n",
    "test_pred = model.transform(testData)\n",
    "\n",
    "test_pred.select(\"prediction\", \"item_cnt_day\").show(5)\n",
    "\n",
    "print(\"RMSE train data = %g\" % evaluator.evaluate(train_pred))\n",
    "print(\"RMSE test data = %g\" % evaluator.evaluate(test_pred))"
   ]
  },
  {
   "cell_type": "code",
   "execution_count": 24,
   "metadata": {},
   "outputs": [
    {
     "name": "stdout",
     "output_type": "stream",
     "text": [
      "GBTRegressionModel: uid=GBTRegressor_a25b03a24986, numTrees=10, numFeatures=3\n"
     ]
    }
   ],
   "source": [
    "gbtModel = model.stages[1]\n",
    "print(gbtModel)  # summary only"
   ]
  }
 ],
 "metadata": {
  "kernelspec": {
   "display_name": "Python 3.9.7 ('base')",
   "language": "python",
   "name": "python3"
  },
  "language_info": {
   "codemirror_mode": {
    "name": "ipython",
    "version": 3
   },
   "file_extension": ".py",
   "mimetype": "text/x-python",
   "name": "python",
   "nbconvert_exporter": "python",
   "pygments_lexer": "ipython3",
   "version": "3.9.7"
  },
  "orig_nbformat": 4,
  "vscode": {
   "interpreter": {
    "hash": "8b2a6518053bef5b2734d8c8c83c9df3fdd4974b918de54b8c2eaa3b7de8a017"
   }
  }
 },
 "nbformat": 4,
 "nbformat_minor": 2
}
