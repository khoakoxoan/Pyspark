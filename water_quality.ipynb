{
 "cells": [
  {
   "cell_type": "code",
   "execution_count": 348,
   "metadata": {},
   "outputs": [],
   "source": [
    "import findspark\n",
    "findspark.init()\n",
    "from pyspark.ml import Pipeline\n",
    "from pyspark.ml.classification import LogisticRegression, LinearSVC\n",
    "import pyspark\n",
    "from pyspark.ml.feature import StringIndexer, VectorAssembler\n",
    "from pyspark.sql import SparkSession\n",
    "from pyspark.sql import functions as f\n",
    "from pyspark.ml.evaluation import MulticlassClassificationEvaluator\n",
    "from sklearn.metrics import confusion_matrix\n",
    "from sklearn.metrics import precision_score\n",
    "from sklearn.metrics import recall_score"
   ]
  },
  {
   "cell_type": "markdown",
   "metadata": {},
   "source": [
    "### **Create Spark session**"
   ]
  },
  {
   "cell_type": "code",
   "execution_count": 349,
   "metadata": {},
   "outputs": [],
   "source": [
    "spark = SparkSession.builder.master(\"local\")\\\n",
    "          .appName(\"StructureAPI\")\\\n",
    "          .config(\"spark.some.config.option\", \"some-value\")\\\n",
    "          .getOrCreate()"
   ]
  },
  {
   "cell_type": "markdown",
   "metadata": {},
   "source": [
    "## **Dataset1**"
   ]
  },
  {
   "cell_type": "markdown",
   "metadata": {},
   "source": [
    "### **Explore Data Analysis**"
   ]
  },
  {
   "cell_type": "code",
   "execution_count": 350,
   "metadata": {},
   "outputs": [
    {
     "name": "stdout",
     "output_type": "stream",
     "text": [
      "+---------+-------+-------+------+-------+----------+--------+------+--------+--------+-------+-----+--------+--------+-------+-----------+------+--------+------+-------+-------+\n",
      "|aluminium|ammonia|arsenic|barium|cadmium|chloramine|chromium|copper|flouride|bacteria|viruses| lead|nitrates|nitrites|mercury|perchlorate|radium|selenium|silver|uranium|is_safe|\n",
      "+---------+-------+-------+------+-------+----------+--------+------+--------+--------+-------+-----+--------+--------+-------+-----------+------+--------+------+-------+-------+\n",
      "|     1.65|   9.08|   0.04|  2.85|  0.007|      0.35|    0.83|  0.17|    0.05|     0.2|      0|0.054|   16.08|    1.13|  0.007|      37.75|  6.78|    0.08|  0.34|   0.02|      1|\n",
      "|     2.32|  21.16|   0.01|  3.31|  0.002|      5.28|    0.68|  0.66|     0.9|    0.65|   0.65|  0.1|    2.01|    1.93|  0.003|      32.26|  3.21|    0.08|  0.27|   0.05|      1|\n",
      "|     1.01|  14.02|   0.04|  0.58|  0.008|      4.24|    0.53|  0.02|    0.99|    0.05|  0.003|0.078|   14.16|    1.11|  0.006|      50.28|  7.07|    0.07|  0.44|   0.01|      0|\n",
      "|     1.36|  11.33|   0.04|  2.96|  0.001|      7.23|    0.03|  1.66|    1.08|    0.71|   0.71|0.016|    1.41|    1.29|  0.004|       9.12|  1.72|    0.02|  0.45|   0.05|      1|\n",
      "|     0.92|  24.33|   0.03|   0.2|  0.006|      2.67|    0.69|  0.57|    0.61|    0.13|  0.001|0.117|    6.74|    1.11|  0.003|       16.9|  2.41|    0.02|  0.06|   0.02|      1|\n",
      "+---------+-------+-------+------+-------+----------+--------+------+--------+--------+-------+-----+--------+--------+-------+-----------+------+--------+------+-------+-------+\n",
      "only showing top 5 rows\n",
      "\n"
     ]
    }
   ],
   "source": [
    "data1 = spark.read.load(\"waterQuality1.csv\", format=\"csv\", header=True, delimiter=\",\")\n",
    "data1.show(5)"
   ]
  },
  {
   "cell_type": "code",
   "execution_count": 351,
   "metadata": {},
   "outputs": [
    {
     "data": {
      "text/plain": [
       "7999"
      ]
     },
     "execution_count": 351,
     "metadata": {},
     "output_type": "execute_result"
    }
   ],
   "source": [
    "data1.count()"
   ]
  },
  {
   "cell_type": "markdown",
   "metadata": {},
   "source": [
    "- **aluminium** - dangerous if greater than 2.8\n",
    "- **ammonia** - dangerous if greater than 32.5\n",
    "- **arsenic** - dangerous if greater than 0.01\n",
    "- **barium** - dangerous if greater than 2\n",
    "- **cadmium**- dangerous if greater than 0.005\n",
    "- **chloramine** - dangerous if greater than 4\n",
    "- **chromium** - dangerous if greater than 0.1\n",
    "- **copper** - dangerous if greater than 1.3\n",
    "- **flouride** - dangerous if greater than 1.5\n",
    "- **bacteria** - dangerous if greater than 0\n",
    "- **viruses** - dangerous if greater than 0\n",
    "- **lead** - dangerous if greater than 0.015\n",
    "- **nitrates** - dangerous if greater than 10\n",
    "- **nitrites** - dangerous if greater than 1\n",
    "- **mercury** - dangerous if greater than 0.002\n",
    "- **perchlorate** - dangerous if greater than 56\n",
    "- **radium** - dangerous if greater than 5\n",
    "- **selenium** - dangerous if greater than 0.5\n",
    "- **silver**- dangerous if greater than 0.1\n",
    "- **uranium** - dangerous if greater than 0.3\n",
    "- **is_safe** - class attribute {0 - not safe, 1 - safe}"
   ]
  },
  {
   "cell_type": "code",
   "execution_count": 352,
   "metadata": {},
   "outputs": [
    {
     "name": "stdout",
     "output_type": "stream",
     "text": [
      "root\n",
      " |-- aluminium: string (nullable = true)\n",
      " |-- ammonia: string (nullable = true)\n",
      " |-- arsenic: string (nullable = true)\n",
      " |-- barium: string (nullable = true)\n",
      " |-- cadmium: string (nullable = true)\n",
      " |-- chloramine: string (nullable = true)\n",
      " |-- chromium: string (nullable = true)\n",
      " |-- copper: string (nullable = true)\n",
      " |-- flouride: string (nullable = true)\n",
      " |-- bacteria: string (nullable = true)\n",
      " |-- viruses: string (nullable = true)\n",
      " |-- lead: string (nullable = true)\n",
      " |-- nitrates: string (nullable = true)\n",
      " |-- nitrites: string (nullable = true)\n",
      " |-- mercury: string (nullable = true)\n",
      " |-- perchlorate: string (nullable = true)\n",
      " |-- radium: string (nullable = true)\n",
      " |-- selenium: string (nullable = true)\n",
      " |-- silver: string (nullable = true)\n",
      " |-- uranium: string (nullable = true)\n",
      " |-- is_safe: string (nullable = true)\n",
      "\n"
     ]
    }
   ],
   "source": [
    "data1.printSchema()\n"
   ]
  },
  {
   "cell_type": "markdown",
   "metadata": {},
   "source": [
    "Tiếp theo xét xem có dòng nào bị thiếu giá trị hay không."
   ]
  },
  {
   "cell_type": "code",
   "execution_count": 353,
   "metadata": {},
   "outputs": [
    {
     "name": "stdout",
     "output_type": "stream",
     "text": [
      "+---------+-------+-------+------+-------+----------+--------+------+--------+--------+-------+----+--------+--------+-------+-----------+------+--------+------+-------+-------+\n",
      "|aluminium|ammonia|arsenic|barium|cadmium|chloramine|chromium|copper|flouride|bacteria|viruses|lead|nitrates|nitrites|mercury|perchlorate|radium|selenium|silver|uranium|is_safe|\n",
      "+---------+-------+-------+------+-------+----------+--------+------+--------+--------+-------+----+--------+--------+-------+-----------+------+--------+------+-------+-------+\n",
      "|        0|      3|      0|     0|      0|         0|       0|     0|       0|       0|      0|   0|       0|       0|      0|          0|     0|       0|     0|      0|      3|\n",
      "+---------+-------+-------+------+-------+----------+--------+------+--------+--------+-------+----+--------+--------+-------+-----------+------+--------+------+-------+-------+\n",
      "\n"
     ]
    }
   ],
   "source": [
    "data1.select([f.count(f.when(f.col(c).contains('None') | \\\n",
    "                            f.col(c).contains('NULL') | \\\n",
    "                            (f.col(c) == '' ) | \\\n",
    "                            (f.col(c) == '#NUM!' ) | \\\n",
    "                            f.col(c).isNull() | \\\n",
    "                            f.isnan(c), c \n",
    "                           )).alias(c)\n",
    "                    for c in data1.columns]).show()"
   ]
  },
  {
   "cell_type": "markdown",
   "metadata": {},
   "source": [
    "Do số lượng dữ liệu bị missing không đáng kể nên ta sẽ remove chúng."
   ]
  },
  {
   "cell_type": "code",
   "execution_count": 354,
   "metadata": {},
   "outputs": [],
   "source": [
    "data1 = data1.where(data1.ammonia != '#NUM!').where(data1.is_safe!='#NUM!')"
   ]
  },
  {
   "cell_type": "markdown",
   "metadata": {},
   "source": [
    "Đổi kiểu dữ liệu của các cột"
   ]
  },
  {
   "cell_type": "code",
   "execution_count": 355,
   "metadata": {},
   "outputs": [],
   "source": [
    "for item in data1.columns:\n",
    "    if item != 'is_safe':\n",
    "        data1 = data1.withColumn(f'{item}', data1[item].cast('double'))\n",
    "    else:\n",
    "        data1 = data1.withColumn(f'{item}', data1[item].cast('int'))\n"
   ]
  },
  {
   "cell_type": "code",
   "execution_count": 356,
   "metadata": {},
   "outputs": [
    {
     "name": "stdout",
     "output_type": "stream",
     "text": [
      "root\n",
      " |-- aluminium: double (nullable = true)\n",
      " |-- ammonia: double (nullable = true)\n",
      " |-- arsenic: double (nullable = true)\n",
      " |-- barium: double (nullable = true)\n",
      " |-- cadmium: double (nullable = true)\n",
      " |-- chloramine: double (nullable = true)\n",
      " |-- chromium: double (nullable = true)\n",
      " |-- copper: double (nullable = true)\n",
      " |-- flouride: double (nullable = true)\n",
      " |-- bacteria: double (nullable = true)\n",
      " |-- viruses: double (nullable = true)\n",
      " |-- lead: double (nullable = true)\n",
      " |-- nitrates: double (nullable = true)\n",
      " |-- nitrites: double (nullable = true)\n",
      " |-- mercury: double (nullable = true)\n",
      " |-- perchlorate: double (nullable = true)\n",
      " |-- radium: double (nullable = true)\n",
      " |-- selenium: double (nullable = true)\n",
      " |-- silver: double (nullable = true)\n",
      " |-- uranium: double (nullable = true)\n",
      " |-- is_safe: integer (nullable = true)\n",
      "\n"
     ]
    }
   ],
   "source": [
    "data1.printSchema()"
   ]
  },
  {
   "cell_type": "code",
   "execution_count": 357,
   "metadata": {},
   "outputs": [
    {
     "name": "stdout",
     "output_type": "stream",
     "text": [
      "+-------+------------------+\n",
      "|summary|         aluminium|\n",
      "+-------+------------------+\n",
      "|  count|              7996|\n",
      "|   mean|0.6663956978489863|\n",
      "| stddev|1.2653230979043648|\n",
      "|    min|               0.0|\n",
      "|    max|              5.05|\n",
      "+-------+------------------+\n",
      "\n",
      "+-------+------------------+\n",
      "|summary|           ammonia|\n",
      "+-------+------------------+\n",
      "|  count|              7996|\n",
      "|   mean|14.278211605802943|\n",
      "| stddev|  8.87893018212118|\n",
      "|    min|             -0.08|\n",
      "|    max|             29.84|\n",
      "+-------+------------------+\n",
      "\n",
      "+-------+-------------------+\n",
      "|summary|            arsenic|\n",
      "+-------+-------------------+\n",
      "|  count|               7996|\n",
      "|   mean|0.16147698849422124|\n",
      "| stddev|0.25263248322013493|\n",
      "|    min|                0.0|\n",
      "|    max|               1.05|\n",
      "+-------+-------------------+\n",
      "\n",
      "+-------+------------------+\n",
      "|summary|            barium|\n",
      "+-------+------------------+\n",
      "|  count|              7996|\n",
      "|   mean|1.5679277138569263|\n",
      "| stddev|1.2162273125632017|\n",
      "|    min|               0.0|\n",
      "|    max|              4.94|\n",
      "+-------+------------------+\n",
      "\n",
      "+-------+--------------------+\n",
      "|summary|             cadmium|\n",
      "+-------+--------------------+\n",
      "|  count|                7996|\n",
      "|   mean| 0.04280340170084975|\n",
      "| stddev|0.036049307743730906|\n",
      "|    min|                 0.0|\n",
      "|    max|                0.13|\n",
      "+-------+--------------------+\n",
      "\n",
      "+-------+-----------------+\n",
      "|summary|       chloramine|\n",
      "+-------+-----------------+\n",
      "|  count|             7996|\n",
      "|   mean|2.177588794397177|\n",
      "| stddev|2.567209651034504|\n",
      "|    min|              0.0|\n",
      "|    max|             8.68|\n",
      "+-------+-----------------+\n",
      "\n",
      "+-------+------------------+\n",
      "|summary|          chromium|\n",
      "+-------+------------------+\n",
      "|  count|              7996|\n",
      "|   mean|0.2472998999499505|\n",
      "| stddev|0.2706634668738608|\n",
      "|    min|               0.0|\n",
      "|    max|               0.9|\n",
      "+-------+------------------+\n",
      "\n",
      "+-------+------------------+\n",
      "|summary|            copper|\n",
      "+-------+------------------+\n",
      "|  count|              7996|\n",
      "|   mean|0.8059404702351326|\n",
      "| stddev|0.6535946907069438|\n",
      "|    min|               0.0|\n",
      "|    max|               2.0|\n",
      "+-------+------------------+\n",
      "\n",
      "+-------+------------------+\n",
      "|summary|          flouride|\n",
      "+-------+------------------+\n",
      "|  count|              7996|\n",
      "|   mean|0.7716458229114549|\n",
      "| stddev|0.4354234015104434|\n",
      "|    min|               0.0|\n",
      "|    max|               1.5|\n",
      "+-------+------------------+\n",
      "\n",
      "+-------+-------------------+\n",
      "|summary|           bacteria|\n",
      "+-------+-------------------+\n",
      "|  count|               7996|\n",
      "|   mean|0.31971360680340144|\n",
      "| stddev|0.32949660169192474|\n",
      "|    min|                0.0|\n",
      "|    max|                1.0|\n",
      "+-------+-------------------+\n",
      "\n",
      "+-------+-------------------+\n",
      "|summary|            viruses|\n",
      "+-------+-------------------+\n",
      "|  count|               7996|\n",
      "|   mean|0.32870610305152725|\n",
      "| stddev| 0.3781133315223667|\n",
      "|    min|                0.0|\n",
      "|    max|                1.0|\n",
      "+-------+-------------------+\n",
      "\n",
      "+-------+-------------------+\n",
      "|summary|               lead|\n",
      "+-------+-------------------+\n",
      "|  count|               7996|\n",
      "|   mean|0.09943084042020928|\n",
      "| stddev|0.05816850590111696|\n",
      "|    min|                0.0|\n",
      "|    max|                0.2|\n",
      "+-------+-------------------+\n",
      "\n",
      "+-------+-----------------+\n",
      "|summary|         nitrates|\n",
      "+-------+-----------------+\n",
      "|  count|             7996|\n",
      "|   mean|9.819249624812429|\n",
      "| stddev|5.541976583539604|\n",
      "|    min|              0.0|\n",
      "|    max|            19.83|\n",
      "+-------+-----------------+\n",
      "\n",
      "+-------+------------------+\n",
      "|summary|          nitrites|\n",
      "+-------+------------------+\n",
      "|  count|              7996|\n",
      "|   mean|1.3298461730865476|\n",
      "| stddev|0.5732708247400813|\n",
      "|    min|               0.0|\n",
      "|    max|              2.93|\n",
      "+-------+------------------+\n",
      "\n",
      "+-------+--------------------+\n",
      "|summary|             mercury|\n",
      "+-------+--------------------+\n",
      "|  count|                7996|\n",
      "|   mean|0.005192596298149174|\n",
      "| stddev|0.002967141329191862|\n",
      "|    min|                 0.0|\n",
      "|    max|                0.01|\n",
      "+-------+--------------------+\n",
      "\n",
      "+-------+------------------+\n",
      "|summary|       perchlorate|\n",
      "+-------+------------------+\n",
      "|  count|              7996|\n",
      "|   mean|16.465266383191576|\n",
      "| stddev|17.688826599243743|\n",
      "|    min|               0.0|\n",
      "|    max|             60.01|\n",
      "+-------+------------------+\n",
      "\n",
      "+-------+-----------------+\n",
      "|summary|           radium|\n",
      "+-------+-----------------+\n",
      "|  count|             7996|\n",
      "|   mean|2.920106303151593|\n",
      "| stddev|2.322805128717542|\n",
      "|    min|              0.0|\n",
      "|    max|             7.99|\n",
      "+-------+-----------------+\n",
      "\n",
      "+-------+-------------------+\n",
      "|summary|           selenium|\n",
      "+-------+-------------------+\n",
      "|  count|               7996|\n",
      "|   mean|0.04968359179589655|\n",
      "| stddev|0.02877333620651656|\n",
      "|    min|                0.0|\n",
      "|    max|                0.1|\n",
      "+-------+-------------------+\n",
      "\n",
      "+-------+-------------------+\n",
      "|summary|             silver|\n",
      "+-------+-------------------+\n",
      "|  count|               7996|\n",
      "|   mean|0.14781140570283252|\n",
      "| stddev| 0.1435686941195115|\n",
      "|    min|                0.0|\n",
      "|    max|                0.5|\n",
      "+-------+-------------------+\n",
      "\n",
      "+-------+--------------------+\n",
      "|summary|             uranium|\n",
      "+-------+--------------------+\n",
      "|  count|                7996|\n",
      "|   mean| 0.04467233616808315|\n",
      "| stddev|0.026905996506356118|\n",
      "|    min|                 0.0|\n",
      "|    max|                0.09|\n",
      "+-------+--------------------+\n",
      "\n",
      "+-------+-------------------+\n",
      "|summary|            is_safe|\n",
      "+-------+-------------------+\n",
      "|  count|               7996|\n",
      "|   mean|0.11405702851425713|\n",
      "| stddev| 0.3179003958206309|\n",
      "|    min|                  0|\n",
      "|    max|                  1|\n",
      "+-------+-------------------+\n",
      "\n"
     ]
    }
   ],
   "source": [
    "for item in data1.columns:\n",
    "    data1.select(item).describe().show()"
   ]
  },
  {
   "cell_type": "markdown",
   "metadata": {},
   "source": [
    " Phân bố các giá trị của label"
   ]
  },
  {
   "cell_type": "code",
   "execution_count": 358,
   "metadata": {},
   "outputs": [
    {
     "name": "stdout",
     "output_type": "stream",
     "text": [
      "+-------+-----+\n",
      "|is_safe|count|\n",
      "+-------+-----+\n",
      "|      1|  912|\n",
      "|      0| 7084|\n",
      "+-------+-----+\n",
      "\n"
     ]
    }
   ],
   "source": [
    "data1.groupBy('is_safe').count().show()"
   ]
  },
  {
   "cell_type": "markdown",
   "metadata": {},
   "source": [
    "### **Classification algorithms**"
   ]
  },
  {
   "cell_type": "markdown",
   "metadata": {},
   "source": [
    "tạo cột feature bằng cách gom các giá trị đặc điểm thành 1 vector"
   ]
  },
  {
   "cell_type": "code",
   "execution_count": 359,
   "metadata": {},
   "outputs": [],
   "source": [
    "assem = VectorAssembler(inputCols=data1.columns[:-1],outputCol='features',handleInvalid='keep')"
   ]
  },
  {
   "cell_type": "markdown",
   "metadata": {},
   "source": [
    "train-test split"
   ]
  },
  {
   "cell_type": "code",
   "execution_count": 360,
   "metadata": {},
   "outputs": [],
   "source": [
    "(trainingData1, testData1) = data1.randomSplit([0.8, 0.2], 134)"
   ]
  },
  {
   "cell_type": "markdown",
   "metadata": {},
   "source": [
    "#### Logistic regression"
   ]
  },
  {
   "cell_type": "code",
   "execution_count": 361,
   "metadata": {},
   "outputs": [],
   "source": [
    "log_reg1 = LogisticRegression(featuresCol='features', labelCol='is_safe')"
   ]
  },
  {
   "cell_type": "code",
   "execution_count": 362,
   "metadata": {},
   "outputs": [],
   "source": [
    "log_pipeline1 = Pipeline(stages=[assem, log_reg1])\n",
    "log_model1 = log_pipeline1.fit(trainingData1)"
   ]
  },
  {
   "cell_type": "markdown",
   "metadata": {},
   "source": [
    "prediction"
   ]
  },
  {
   "cell_type": "code",
   "execution_count": 363,
   "metadata": {},
   "outputs": [
    {
     "name": "stdout",
     "output_type": "stream",
     "text": [
      "+----------+-------+--------------------+\n",
      "|prediction|is_safe|            features|\n",
      "+----------+-------+--------------------+\n",
      "|       0.0|      0|[0.0,0.75,0.07,0....|\n",
      "|       0.0|      0|[0.0,1.29,0.07,0....|\n",
      "|       0.0|      0|[0.0,1.42,0.02,0....|\n",
      "|       0.0|      0|[0.0,2.09,0.09,2....|\n",
      "|       0.0|      0|[0.0,2.22,0.03,0....|\n",
      "+----------+-------+--------------------+\n",
      "only showing top 5 rows\n",
      "\n"
     ]
    }
   ],
   "source": [
    "predictions = log_model1.transform(testData1)\n",
    "predictions.select(\"prediction\", \"is_safe\", \"features\").show(5)"
   ]
  },
  {
   "cell_type": "code",
   "execution_count": 364,
   "metadata": {},
   "outputs": [],
   "source": [
    "evaluator = MulticlassClassificationEvaluator(\n",
    "    labelCol=\"is_safe\", predictionCol=\"prediction\", metricName=\"accuracy\")"
   ]
  },
  {
   "cell_type": "code",
   "execution_count": 365,
   "metadata": {},
   "outputs": [
    {
     "name": "stdout",
     "output_type": "stream",
     "text": [
      "Logistic Regression - Test Accuracy = 0.902251\n",
      "Logistic Regression - Test Error = 0.0977492\n"
     ]
    }
   ],
   "source": [
    "accuracy = evaluator.evaluate(predictions)\n",
    "print(\"Logistic Regression - Test Accuracy = %g\" % (accuracy))\n",
    "print(\"Logistic Regression - Test Error = %g\" % (1.0 - accuracy))"
   ]
  },
  {
   "cell_type": "code",
   "execution_count": 366,
   "metadata": {},
   "outputs": [],
   "source": [
    "y_true = predictions.select('is_safe').rdd.flatMap(lambda x: x).collect()\n",
    "y_pred = predictions.select('prediction').rdd.flatMap(lambda x: x).collect()\n",
    "confusionmatrix = confusion_matrix(y_true, y_pred)\n",
    "precision = precision_score(y_true, y_pred, average='micro')\n",
    "recall = recall_score(y_true, y_pred, average='micro')"
   ]
  },
  {
   "cell_type": "code",
   "execution_count": 367,
   "metadata": {},
   "outputs": [
    {
     "name": "stdout",
     "output_type": "stream",
     "text": [
      "The Confusion Matrix for Logistic Regression is :\n",
      "[[1351   26]\n",
      " [ 126   52]]\n",
      "The precision score for Logistic Regression is: 0.9022508038585209\n",
      "The recall score for Decision Tree Model is: 0.9022508038585209\n"
     ]
    }
   ],
   "source": [
    "print(\"The Confusion Matrix for Logistic Regression is :\\n\" + str(confusionmatrix))\n",
    "\n",
    "print(\"The precision score for Logistic Regression is: \" + str(precision))\n",
    "\n",
    "print(\"The recall score for Decision Tree Model is: \" + str(recall))"
   ]
  },
  {
   "cell_type": "markdown",
   "metadata": {},
   "source": [
    "#### Linear Support Vector Machine\n"
   ]
  },
  {
   "cell_type": "code",
   "execution_count": 368,
   "metadata": {},
   "outputs": [],
   "source": [
    "svc = LinearSVC(maxIter=10, regParam=0.1, labelCol='is_safe', featuresCol='features')"
   ]
  },
  {
   "cell_type": "code",
   "execution_count": 369,
   "metadata": {},
   "outputs": [],
   "source": [
    "svc_pipeline1 = Pipeline(stages=[assem, svc])\n",
    "svc_model1 = svc_pipeline1.fit(trainingData1)"
   ]
  },
  {
   "cell_type": "code",
   "execution_count": 370,
   "metadata": {},
   "outputs": [
    {
     "name": "stdout",
     "output_type": "stream",
     "text": [
      "+----------+-------+--------------------+\n",
      "|prediction|is_safe|            features|\n",
      "+----------+-------+--------------------+\n",
      "|       0.0|      0|[0.0,0.75,0.07,0....|\n",
      "|       0.0|      0|[0.0,1.29,0.07,0....|\n",
      "|       0.0|      0|[0.0,1.42,0.02,0....|\n",
      "|       0.0|      0|[0.0,2.09,0.09,2....|\n",
      "|       0.0|      0|[0.0,2.22,0.03,0....|\n",
      "+----------+-------+--------------------+\n",
      "only showing top 5 rows\n",
      "\n"
     ]
    }
   ],
   "source": [
    "predictions = svc_model1.transform(testData1)\n",
    "predictions.select(\"prediction\", \"is_safe\", \"features\").show(5)"
   ]
  },
  {
   "cell_type": "code",
   "execution_count": 371,
   "metadata": {},
   "outputs": [
    {
     "name": "stdout",
     "output_type": "stream",
     "text": [
      "LinearSVC - Test Accuracy = 0.885531\n",
      "LinearSVC - Test Error = 0.114469\n"
     ]
    }
   ],
   "source": [
    "evaluator = MulticlassClassificationEvaluator(\n",
    "    labelCol=\"is_safe\", predictionCol=\"prediction\", metricName=\"accuracy\")\n",
    "\n",
    "accuracy = evaluator.evaluate(predictions)\n",
    "print(\"LinearSVC - Test Accuracy = %g\" % (accuracy))\n",
    "print(\"LinearSVC - Test Error = %g\" % (1.0 - accuracy))"
   ]
  },
  {
   "cell_type": "code",
   "execution_count": 372,
   "metadata": {},
   "outputs": [],
   "source": [
    "y_true = predictions.select('is_safe').rdd.flatMap(lambda x: x).collect()\n",
    "y_pred = predictions.select('prediction').rdd.flatMap(lambda x: x).collect()\n",
    "confusionmatrix = confusion_matrix(y_true, y_pred)\n",
    "precision = precision_score(y_true, y_pred, average='micro')\n",
    "recall = recall_score(y_true, y_pred, average='micro')"
   ]
  },
  {
   "cell_type": "code",
   "execution_count": 373,
   "metadata": {},
   "outputs": [
    {
     "name": "stdout",
     "output_type": "stream",
     "text": [
      "The Confusion Matrix for LinearSVC is :\n",
      "[[1377    0]\n",
      " [ 178    0]]\n",
      "The precision score for LinearSVC is: 0.8855305466237942\n",
      "The recall score for LinearSVC is: 0.8855305466237942\n"
     ]
    }
   ],
   "source": [
    "print(\"The Confusion Matrix for LinearSVC is :\\n\" + str(confusionmatrix))\n",
    "\n",
    "print(\"The precision score for LinearSVC is: \" + str(precision))\n",
    "\n",
    "print(\"The recall score for LinearSVC is: \" + str(recall))"
   ]
  },
  {
   "cell_type": "markdown",
   "metadata": {},
   "source": [
    "## **DataSet2**"
   ]
  },
  {
   "cell_type": "markdown",
   "metadata": {},
   "source": [
    "### **Explore Data Analysis**"
   ]
  },
  {
   "cell_type": "code",
   "execution_count": 374,
   "metadata": {},
   "outputs": [
    {
     "name": "stdout",
     "output_type": "stream",
     "text": [
      "+---------+-----------------+------------------+---------+---------+---------+-------------------------+------+\n",
      "|long_hair|forehead_width_cm|forehead_height_cm|nose_wide|nose_long|lips_thin|distance_nose_to_lip_long|gender|\n",
      "+---------+-----------------+------------------+---------+---------+---------+-------------------------+------+\n",
      "|        1|             11.8|               6.1|        1|        0|        1|                        1|  Male|\n",
      "|        0|               14|               5.4|        0|        0|        1|                        0|Female|\n",
      "|        0|             11.8|               6.3|        1|        1|        1|                        1|  Male|\n",
      "|        0|             14.4|               6.1|        0|        1|        1|                        1|  Male|\n",
      "|        1|             13.5|               5.9|        0|        0|        0|                        0|Female|\n",
      "+---------+-----------------+------------------+---------+---------+---------+-------------------------+------+\n",
      "only showing top 5 rows\n",
      "\n"
     ]
    }
   ],
   "source": [
    "data2 = spark.read.load(\"gender_classification.csv\", format=\"csv\", header=True, delimiter=\",\")\n",
    "data2.show(5)"
   ]
  },
  {
   "cell_type": "code",
   "execution_count": 375,
   "metadata": {},
   "outputs": [
    {
     "data": {
      "text/plain": [
       "5001"
      ]
     },
     "execution_count": 375,
     "metadata": {},
     "output_type": "execute_result"
    }
   ],
   "source": [
    "data2.count()"
   ]
  },
  {
   "cell_type": "markdown",
   "metadata": {},
   "source": [
    "- longhair - This column contains 0's and 1's where 1 is \"long hair\" and 0 is \"not long hair\".\n",
    "- foreheadwidthcm - This column is in CM's. This is the width of the forehead.\n",
    "- foreheadheightcm - This is the height of the forehead and it's in Cm's.\n",
    "- nosewide - This column contains 0's and 1's where 1 is \"wide nose\" and 0 is \"not wide nose\".\n",
    "- noselong - This column contains 0's and 1's where 1 is \"Long nose\" and 0 is \"not long nose\".\n",
    "- lipsthin - This column contains 0's and 1's where 1 represents the \"thin lips\" while 0 is \"Not thin lips\".\n",
    "- distancenosetoliplong - This column contains 0's and 1's where 1 represents the \"long distance between nose and lips\" while 0 is \"short distance between nose and lips\".\n",
    "- gender - This is either \"Male\" or \"Female\"."
   ]
  },
  {
   "cell_type": "code",
   "execution_count": 376,
   "metadata": {},
   "outputs": [
    {
     "name": "stdout",
     "output_type": "stream",
     "text": [
      "root\n",
      " |-- long_hair: string (nullable = true)\n",
      " |-- forehead_width_cm: string (nullable = true)\n",
      " |-- forehead_height_cm: string (nullable = true)\n",
      " |-- nose_wide: string (nullable = true)\n",
      " |-- nose_long: string (nullable = true)\n",
      " |-- lips_thin: string (nullable = true)\n",
      " |-- distance_nose_to_lip_long: string (nullable = true)\n",
      " |-- gender: string (nullable = true)\n",
      "\n"
     ]
    }
   ],
   "source": [
    "data2.printSchema()\n"
   ]
  },
  {
   "cell_type": "markdown",
   "metadata": {},
   "source": [
    "Tiếp theo xét xem có dòng nào bị thiếu giá trị hay không."
   ]
  },
  {
   "cell_type": "code",
   "execution_count": 377,
   "metadata": {},
   "outputs": [
    {
     "name": "stdout",
     "output_type": "stream",
     "text": [
      "+---------+-----------------+------------------+---------+---------+---------+-------------------------+------+\n",
      "|long_hair|forehead_width_cm|forehead_height_cm|nose_wide|nose_long|lips_thin|distance_nose_to_lip_long|gender|\n",
      "+---------+-----------------+------------------+---------+---------+---------+-------------------------+------+\n",
      "|        0|                0|                 0|        0|        0|        0|                        0|     0|\n",
      "+---------+-----------------+------------------+---------+---------+---------+-------------------------+------+\n",
      "\n"
     ]
    }
   ],
   "source": [
    "data2.select([f.count(f.when(f.col(c).contains('None') | \\\n",
    "                            f.col(c).contains('NULL') | \\\n",
    "                            (f.col(c) == '' ) | \\\n",
    "                            (f.col(c) == '#NUM!' ) | \\\n",
    "                            f.col(c).isNull() | \\\n",
    "                            f.isnan(c), c \n",
    "                           )).alias(c)\n",
    "                    for c in data2.columns]).show()"
   ]
  },
  {
   "cell_type": "markdown",
   "metadata": {},
   "source": [
    "Đổi kiểu dữ liệu của các cột"
   ]
  },
  {
   "cell_type": "code",
   "execution_count": 378,
   "metadata": {},
   "outputs": [],
   "source": [
    "for item in data2.columns:\n",
    "    if item != 'gender':\n",
    "        data2 = data2.withColumn(f'{item}', data2[item].cast('double'))\n"
   ]
  },
  {
   "cell_type": "code",
   "execution_count": 379,
   "metadata": {},
   "outputs": [
    {
     "name": "stdout",
     "output_type": "stream",
     "text": [
      "root\n",
      " |-- long_hair: double (nullable = true)\n",
      " |-- forehead_width_cm: double (nullable = true)\n",
      " |-- forehead_height_cm: double (nullable = true)\n",
      " |-- nose_wide: double (nullable = true)\n",
      " |-- nose_long: double (nullable = true)\n",
      " |-- lips_thin: double (nullable = true)\n",
      " |-- distance_nose_to_lip_long: double (nullable = true)\n",
      " |-- gender: string (nullable = true)\n",
      "\n"
     ]
    }
   ],
   "source": [
    "data2.printSchema()"
   ]
  },
  {
   "cell_type": "code",
   "execution_count": 380,
   "metadata": {},
   "outputs": [
    {
     "name": "stdout",
     "output_type": "stream",
     "text": [
      "+-------+------------------+\n",
      "|summary|         long_hair|\n",
      "+-------+------------------+\n",
      "|  count|              5001|\n",
      "|   mean| 0.869626074785043|\n",
      "| stddev|0.3367480365970515|\n",
      "|    min|               0.0|\n",
      "|    max|               1.0|\n",
      "+-------+------------------+\n",
      "\n",
      "+-------+------------------+\n",
      "|summary| forehead_width_cm|\n",
      "+-------+------------------+\n",
      "|  count|              5001|\n",
      "|   mean|13.181483703259353|\n",
      "| stddev| 1.107128302494507|\n",
      "|    min|              11.4|\n",
      "|    max|              15.5|\n",
      "+-------+------------------+\n",
      "\n",
      "+-------+------------------+\n",
      "|summary|forehead_height_cm|\n",
      "+-------+------------------+\n",
      "|  count|              5001|\n",
      "|   mean| 5.946310737852416|\n",
      "| stddev|0.5412678510891585|\n",
      "|    min|               5.1|\n",
      "|    max|               7.1|\n",
      "+-------+------------------+\n",
      "\n",
      "+-------+------------------+\n",
      "|summary|         nose_wide|\n",
      "+-------+------------------+\n",
      "|  count|              5001|\n",
      "|   mean|0.4939012197560488|\n",
      "| stddev|0.5000127972767414|\n",
      "|    min|               0.0|\n",
      "|    max|               1.0|\n",
      "+-------+------------------+\n",
      "\n",
      "+-------+------------------+\n",
      "|summary|         nose_long|\n",
      "+-------+------------------+\n",
      "|  count|              5001|\n",
      "|   mean|0.5078984203159368|\n",
      "| stddev|0.4999876023258024|\n",
      "|    min|               0.0|\n",
      "|    max|               1.0|\n",
      "+-------+------------------+\n",
      "\n",
      "+-------+------------------+\n",
      "|summary|         lips_thin|\n",
      "+-------+------------------+\n",
      "|  count|              5001|\n",
      "|   mean|0.4931013797240552|\n",
      "| stddev|0.5000023995143376|\n",
      "|    min|               0.0|\n",
      "|    max|               1.0|\n",
      "+-------+------------------+\n",
      "\n",
      "+-------+-------------------------+\n",
      "|summary|distance_nose_to_lip_long|\n",
      "+-------+-------------------------+\n",
      "|  count|                     5001|\n",
      "|   mean|       0.4989002199560088|\n",
      "| stddev|       0.5000487878616963|\n",
      "|    min|                      0.0|\n",
      "|    max|                      1.0|\n",
      "+-------+-------------------------+\n",
      "\n",
      "+-------+------+\n",
      "|summary|gender|\n",
      "+-------+------+\n",
      "|  count|  5001|\n",
      "|   mean|  null|\n",
      "| stddev|  null|\n",
      "|    min|Female|\n",
      "|    max|  Male|\n",
      "+-------+------+\n",
      "\n"
     ]
    }
   ],
   "source": [
    "for item in data2.columns:\n",
    "    data2.select(item).describe().show()"
   ]
  },
  {
   "cell_type": "markdown",
   "metadata": {},
   "source": [
    " Phân bố các giá trị của label"
   ]
  },
  {
   "cell_type": "code",
   "execution_count": 381,
   "metadata": {},
   "outputs": [
    {
     "name": "stdout",
     "output_type": "stream",
     "text": [
      "+------+-----+\n",
      "|gender|count|\n",
      "+------+-----+\n",
      "|Female| 2501|\n",
      "|  Male| 2500|\n",
      "+------+-----+\n",
      "\n"
     ]
    }
   ],
   "source": [
    "data2.groupBy('gender').count().show()"
   ]
  },
  {
   "cell_type": "markdown",
   "metadata": {},
   "source": [
    "### **Classification algorithms**"
   ]
  },
  {
   "cell_type": "markdown",
   "metadata": {},
   "source": [
    "tạo cột feature bằng cách gom các giá trị đặc điểm thành 1 vector"
   ]
  },
  {
   "cell_type": "code",
   "execution_count": 382,
   "metadata": {},
   "outputs": [],
   "source": [
    "assem = VectorAssembler(inputCols=data2.columns[:-1],outputCol='features',handleInvalid='keep')\n",
    "data2 = assem.transform(data2)"
   ]
  },
  {
   "cell_type": "markdown",
   "metadata": {},
   "source": [
    "Do cột gender ở đây là dạng string nên ta sẽ số hóa chúng."
   ]
  },
  {
   "cell_type": "code",
   "execution_count": 383,
   "metadata": {},
   "outputs": [],
   "source": [
    "labelIndexer = StringIndexer(inputCol=\"gender\", outputCol=\"label\").fit(data2)\n",
    "data2 = labelIndexer.transform(data2)"
   ]
  },
  {
   "cell_type": "markdown",
   "metadata": {},
   "source": [
    "train-test split"
   ]
  },
  {
   "cell_type": "code",
   "execution_count": 384,
   "metadata": {},
   "outputs": [],
   "source": [
    "(trainingData2, testData2) = data2.randomSplit([0.8, 0.2], 124)"
   ]
  },
  {
   "cell_type": "markdown",
   "metadata": {},
   "source": [
    "#### Logistic regression"
   ]
  },
  {
   "cell_type": "code",
   "execution_count": 385,
   "metadata": {},
   "outputs": [],
   "source": [
    "log_reg2 = LogisticRegression(featuresCol='features', labelCol='label')"
   ]
  },
  {
   "cell_type": "code",
   "execution_count": 386,
   "metadata": {},
   "outputs": [],
   "source": [
    "log_pipeline2 = Pipeline(stages=[log_reg2])\n",
    "log_model2 = log_pipeline2.fit(trainingData2)"
   ]
  },
  {
   "cell_type": "markdown",
   "metadata": {},
   "source": [
    "prediction"
   ]
  },
  {
   "cell_type": "code",
   "execution_count": 387,
   "metadata": {},
   "outputs": [
    {
     "name": "stdout",
     "output_type": "stream",
     "text": [
      "+----------+-----+--------------------+\n",
      "|prediction|label|            features|\n",
      "+----------+-----+--------------------+\n",
      "|       0.0|  0.0|(7,[1,2],[11.4,5.4])|\n",
      "|       0.0|  0.0|(7,[1,2,4],[11.4,...|\n",
      "|       1.0|  1.0|[0.0,11.5,5.3,1.0...|\n",
      "|       0.0|  0.0|(7,[1,2,6],[11.5,...|\n",
      "|       0.0|  0.0|(7,[1,2],[11.5,6.2])|\n",
      "+----------+-----+--------------------+\n",
      "only showing top 5 rows\n",
      "\n"
     ]
    }
   ],
   "source": [
    "predictions = log_model2.transform(testData2)\n",
    "predictions.select(\"prediction\", \"label\", \"features\").show(5)"
   ]
  },
  {
   "cell_type": "code",
   "execution_count": 388,
   "metadata": {},
   "outputs": [],
   "source": [
    "evaluator = MulticlassClassificationEvaluator(\n",
    "    labelCol=\"label\", predictionCol=\"prediction\", metricName=\"accuracy\")"
   ]
  },
  {
   "cell_type": "code",
   "execution_count": 389,
   "metadata": {},
   "outputs": [
    {
     "name": "stdout",
     "output_type": "stream",
     "text": [
      "Logistic Regression - Test Accuracy = 0.971292\n",
      "Logistic Regression - Test Error = 0.0287081\n"
     ]
    }
   ],
   "source": [
    "accuracy = evaluator.evaluate(predictions)\n",
    "print(\"Logistic Regression - Test Accuracy = %g\" % (accuracy))\n",
    "print(\"Logistic Regression - Test Error = %g\" % (1.0 - accuracy))"
   ]
  },
  {
   "cell_type": "code",
   "execution_count": 390,
   "metadata": {},
   "outputs": [],
   "source": [
    "y_true = predictions.select('label').rdd.flatMap(lambda x: x).collect()\n",
    "y_pred = predictions.select('prediction').rdd.flatMap(lambda x: x).collect()\n",
    "confusionmatrix = confusion_matrix(y_true, y_pred)\n",
    "precision = precision_score(y_true, y_pred, average='micro')\n",
    "recall = recall_score(y_true, y_pred, average='micro')"
   ]
  },
  {
   "cell_type": "code",
   "execution_count": 391,
   "metadata": {},
   "outputs": [
    {
     "name": "stdout",
     "output_type": "stream",
     "text": [
      "The Confusion Matrix for Logistic Regression is :\n",
      "[[521  14]\n",
      " [ 16 494]]\n",
      "The precision score for Logistic Regression is: 0.9712918660287081\n",
      "The recall score for Decision Tree Model is: 0.9712918660287081\n"
     ]
    }
   ],
   "source": [
    "print(\"The Confusion Matrix for Logistic Regression is :\\n\" + str(confusionmatrix))\n",
    "\n",
    "print(\"The precision score for Logistic Regression is: \" + str(precision))\n",
    "\n",
    "print(\"The recall score for Decision Tree Model is: \" + str(recall))"
   ]
  },
  {
   "cell_type": "markdown",
   "metadata": {},
   "source": [
    "#### Linear Support Vector Machine\n"
   ]
  },
  {
   "cell_type": "code",
   "execution_count": 392,
   "metadata": {},
   "outputs": [],
   "source": [
    "svc = LinearSVC(maxIter=10, regParam=0.1, labelCol='label', featuresCol='features')"
   ]
  },
  {
   "cell_type": "code",
   "execution_count": 393,
   "metadata": {},
   "outputs": [],
   "source": [
    "svc_pipeline2 = Pipeline(stages=[ svc])\n",
    "svc_model2 = svc_pipeline2.fit(trainingData2)"
   ]
  },
  {
   "cell_type": "code",
   "execution_count": 394,
   "metadata": {},
   "outputs": [
    {
     "name": "stdout",
     "output_type": "stream",
     "text": [
      "+----------+-----+--------------------+\n",
      "|prediction|label|            features|\n",
      "+----------+-----+--------------------+\n",
      "|       0.0|  0.0|(7,[1,2],[11.4,5.4])|\n",
      "|       0.0|  0.0|(7,[1,2,4],[11.4,...|\n",
      "|       1.0|  1.0|[0.0,11.5,5.3,1.0...|\n",
      "|       0.0|  0.0|(7,[1,2,6],[11.5,...|\n",
      "|       0.0|  0.0|(7,[1,2],[11.5,6.2])|\n",
      "+----------+-----+--------------------+\n",
      "only showing top 5 rows\n",
      "\n"
     ]
    }
   ],
   "source": [
    "predictions = svc_model2.transform(testData2)\n",
    "predictions.select(\"prediction\", \"label\", \"features\").show(5)"
   ]
  },
  {
   "cell_type": "code",
   "execution_count": 395,
   "metadata": {},
   "outputs": [
    {
     "name": "stdout",
     "output_type": "stream",
     "text": [
      "LinearSVC - Test Accuracy = 0.959809\n",
      "LinearSVC - Test Error = 0.0401914\n"
     ]
    }
   ],
   "source": [
    "evaluator = MulticlassClassificationEvaluator(\n",
    "    labelCol=\"label\", predictionCol=\"prediction\", metricName=\"accuracy\")\n",
    "\n",
    "accuracy = evaluator.evaluate(predictions)\n",
    "print(\"LinearSVC - Test Accuracy = %g\" % (accuracy))\n",
    "print(\"LinearSVC - Test Error = %g\" % (1.0 - accuracy))"
   ]
  },
  {
   "cell_type": "code",
   "execution_count": 396,
   "metadata": {},
   "outputs": [],
   "source": [
    "y_true = predictions.select('label').rdd.flatMap(lambda x: x).collect()\n",
    "y_pred = predictions.select('prediction').rdd.flatMap(lambda x: x).collect()\n",
    "confusionmatrix = confusion_matrix(y_true, y_pred)\n",
    "precision = precision_score(y_true, y_pred, average='micro')\n",
    "recall = recall_score(y_true, y_pred, average='micro')"
   ]
  },
  {
   "cell_type": "code",
   "execution_count": 397,
   "metadata": {},
   "outputs": [
    {
     "name": "stdout",
     "output_type": "stream",
     "text": [
      "The Confusion Matrix for LinearSVC is :\n",
      "[[517  18]\n",
      " [ 24 486]]\n",
      "The precision score for LinearSVC is: 0.9598086124401913\n",
      "The recall score for LinearSVC is: 0.9598086124401913\n"
     ]
    }
   ],
   "source": [
    "print(\"The Confusion Matrix for LinearSVC is :\\n\" + str(confusionmatrix))\n",
    "\n",
    "print(\"The precision score for LinearSVC is: \" + str(precision))\n",
    "\n",
    "print(\"The recall score for LinearSVC is: \" + str(recall))"
   ]
  }
 ],
 "metadata": {
  "kernelspec": {
   "display_name": "Python 3.9.7 ('base')",
   "language": "python",
   "name": "python3"
  },
  "language_info": {
   "codemirror_mode": {
    "name": "ipython",
    "version": 3
   },
   "file_extension": ".py",
   "mimetype": "text/x-python",
   "name": "python",
   "nbconvert_exporter": "python",
   "pygments_lexer": "ipython3",
   "version": "3.9.7"
  },
  "orig_nbformat": 4,
  "vscode": {
   "interpreter": {
    "hash": "8b2a6518053bef5b2734d8c8c83c9df3fdd4974b918de54b8c2eaa3b7de8a017"
   }
  }
 },
 "nbformat": 4,
 "nbformat_minor": 2
}
